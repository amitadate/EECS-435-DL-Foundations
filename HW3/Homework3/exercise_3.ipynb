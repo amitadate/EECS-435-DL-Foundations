{
 "cells": [
  {
   "cell_type": "markdown",
   "metadata": {},
   "source": [
    "# Deep learning from scratch: homework 3"
   ]
  },
  {
   "cell_type": "markdown",
   "metadata": {},
   "source": [
    "### General instructions\n",
    "\n",
    "Complete the exercises listed below in this Jupyter notebook - leaving all of your code in Python cells in the notebook itself.  Feel free to add any necessary cells.  \n",
    "\n",
    "Included with the notebook are \n",
    "\n",
    "- a custom utilities file called `custom_utils.py` that provides various plotting functionalities (for unit tests to help you debug) as well as some other processing code\n",
    "\n",
    "\n",
    "- datasets for exercises: `unnorm_linregress_data.csv`, `highdim_multirange_linregress.csv`, `student_debt.csv`, and  `noisy_sin_sample.csv`\n",
    "\n",
    "be sure you have these files located in the same directory where you put this notebook to work!"
   ]
  },
  {
   "cell_type": "markdown",
   "metadata": {},
   "source": [
    "### When submitting this homework:\n",
    "    \n",
    "**Make sure all output is present in your notebook prior to submission**"
   ]
  },
  {
   "cell_type": "code",
   "execution_count": 1,
   "metadata": {},
   "outputs": [],
   "source": [
    "# import autograd functionality\n",
    "import autograd.numpy as np\n",
    "from autograd.misc.flatten import flatten_func\n",
    "from autograd import grad as compute_grad   \n",
    "\n",
    "# import custom utilities\n",
    "import custom_utilities as util\n",
    "\n",
    "# import various other libraries\n",
    "import copy\n",
    "import matplotlib.pyplot as plt\n",
    "\n",
    "# this is needed to compensate for %matplotl+ib notebook's tendancy to blow up images when plotted inline\n",
    "from matplotlib import rcParams\n",
    "rcParams['figure.autolayout'] = True\n",
    "\n",
    "#%matplotlib notebook\n",
    "%load_ext autoreload\n",
    "%autoreload 2"
   ]
  },
  {
   "cell_type": "markdown",
   "metadata": {},
   "source": [
    "Feel free to use the following ``gradient_descent`` function below for this exercise."
   ]
  },
  {
   "cell_type": "code",
   "execution_count": 2,
   "metadata": {
    "collapsed": true
   },
   "outputs": [],
   "source": [
    "# gradient descent function\n",
    "def gradient_descent(g,w,alpha,max_its,beta,version):    \n",
    "    # flatten the input function, create gradient based on flat function\n",
    "    g_flat, unflatten, w = flatten_func(g, w)\n",
    "    grad = compute_grad(g_flat)\n",
    "\n",
    "    # record history\n",
    "    w_hist = []\n",
    "    w_hist.append(unflatten(w))\n",
    "\n",
    "    # start gradient descent loop\n",
    "    z = np.zeros((np.shape(w)))      # momentum term\n",
    "    \n",
    "    # over the line\n",
    "    for k in range(max_its):   \n",
    "        # plug in value into func and derivative\n",
    "        grad_eval = grad(w)\n",
    "        grad_eval.shape = np.shape(w)\n",
    "\n",
    "        ### normalized or unnormalized descent step? ###\n",
    "        if version == 'normalized':\n",
    "            grad_norm = np.linalg.norm(grad_eval)\n",
    "            if grad_norm == 0:\n",
    "                grad_norm += 10**-6*np.sign(2*np.random.rand(1) - 1)\n",
    "            grad_eval /= grad_norm\n",
    "            \n",
    "        # take descent step with momentum\n",
    "        z = beta*z + grad_eval\n",
    "        w = w - alpha*z\n",
    "\n",
    "        # record weight update\n",
    "        w_hist.append(unflatten(w))\n",
    "\n",
    "    return w_hist"
   ]
  },
  {
   "cell_type": "markdown",
   "metadata": {},
   "source": [
    "#### <span style=\"color:#a50e3e;\">Exercise 3. </span>  Normalizing the input of multi-input features"
   ]
  },
  {
   "cell_type": "markdown",
   "metadata": {},
   "source": [
    "Now that we have seen how normalizing the input of a single-input linear regression dataset gives us significant efficiency gains with gradient descent, and so should be used often in practice.  One can imagine how this concept might generalize to the general $N$ dimensional input case - probably something similar will happen!  \n",
    "\n",
    "In this exercise you will explore this scenario of using input-normalization (also known as *feature scaling*) using the $N = 5$ dimensional linear regression dataset loaded in the next cell.  This dataset consists of a selection of random points taken from a random hyperplane in five dimensions, with absolutely no noise whatsoever added to the output. "
   ]
  },
  {
   "cell_type": "code",
   "execution_count": 3,
   "metadata": {
    "collapsed": true
   },
   "outputs": [],
   "source": [
    "# load data\n",
    "data = np.loadtxt('highdim_multirange_linregress.csv',delimiter = ',')\n",
    "x = data[:,:-1]\n",
    "y = data[:,-1:]"
   ]
  },
  {
   "cell_type": "markdown",
   "metadata": {},
   "source": [
    "Lets examine the numerical range of each input dimension / feature.  We can create this visualization for the $x_n$ dimension by plotting just the values of our input along this dimension (that is all values $x_{p,n}$ with $n$ fixed for $p=1,...,P$).   We do this for each input dimension / feature in the next cell."
   ]
  },
  {
   "cell_type": "code",
   "execution_count": 4,
   "metadata": {
    "collapsed": true
   },
   "outputs": [],
   "source": [
    "# a small Python function for plotting the distributions of input features\n",
    "def feature_distributions(x,y,title):\n",
    "    # create figure \n",
    "    fig, ax = plt.subplots(1, 1, figsize=(6,3))\n",
    "\n",
    "    # loop over input and plot each individual input dimension value\n",
    "    N = np.shape(x)[1]    # dimension of input\n",
    "    for n in range(N):\n",
    "        ax.scatter((n+1)*np.ones((len(y),1)),x[:,n],color = 'k',edgecolor = 'w')\n",
    "\n",
    "    # set xtick labels \n",
    "    ticks = np.arange(1,N+1)\n",
    "    labels = [r'$x_' + str(n+1) + '$' for n in range(N)]\n",
    "    ax.set_xticks(ticks)\n",
    "    ax.set_xticklabels(labels, minor=False)\n",
    "\n",
    "    # label axes and title of plot, then show\n",
    "    ax.set_xlabel('input dimension / feature')\n",
    "    ax.set_ylabel(r'$\\mathrm{value}$',rotation = 0,labelpad = 20)\n",
    "    ax.set_title(title)\n",
    "    plt.show()"
   ]
  },
  {
   "cell_type": "code",
   "execution_count": 5,
   "metadata": {},
   "outputs": [
    {
     "name": "stderr",
     "output_type": "stream",
     "text": [
      "/anaconda3/envs/magpie/lib/python3.6/site-packages/matplotlib/figure.py:2299: UserWarning: This figure includes Axes that are not compatible with tight_layout, so results might be incorrect.\n",
      "  warnings.warn(\"This figure includes Axes that are not compatible \"\n"
     ]
    },
    {
     "data": {
      "image/png": "[encoded data removed]",
      "text/plain": [
       "<Figure size 432x216 with 1 Axes>"
      ]
     },
     "metadata": {
      "needs_background": "light"
     },
     "output_type": "display_data"
    }
   ],
   "source": [
    "# use the plotting function above\n",
    "title = 'original distribution of each input feature'\n",
    "feature_distributions(x,y,title)"
   ]
  },
  {
   "cell_type": "markdown",
   "metadata": {},
   "source": [
    "As we can see in the plot above, the distributions of our input features here are way out of scale with each other, so we can expect gradient descent to converge quite slowly here - unless we normalize each input feature to have a similar distribution!"
   ]
  },
  {
   "cell_type": "markdown",
   "metadata": {},
   "source": [
    "In analogy to the single-input case, here we should normalize *each feature individually* - that is each coordinate direction $x_n$.  What are we trying to avoid by doing this?  The (common) scenario where the distribution of input along each individual input dimensions widely varies, since this leads to a cost function with long narrow valley(s) that substantially slows down gradient descent."
   ]
  },
  {
   "cell_type": "markdown",
   "metadata": {},
   "source": [
    "Thus with the aim of standardizing each input direction - also referred to as a *feature* - we should normalize the $n^{th}$ input dimension of an $N$-input dimensional dataset $\\left\\{\\mathbf{x}_p,y_p\\right\\}_{p=1}^N$ as \n",
    "\n",
    "\\begin{equation}\n",
    "x_{p,n} \\longleftarrow \\frac{x_{p,n} - \\mu_n}{\\sigma_n}\n",
    "\\end{equation}\n",
    "\n",
    "where $x_{p,n}$ is the $n^{th}$ coordinate of point $\\mathbf{x}_p$ and $\\mu_n$ and $\\sigma_n$ are the mean and standard deviation of the $n^{th}$ dimension of the data, respectively, and are defined as \n",
    "\n",
    "\\begin{array}\n",
    "\\\n",
    "\\mu_n = \\frac{1}{P}\\sum_{p=1}^{P}x_{p,n} \\\\\n",
    "\\sigma_n = \\sqrt{\\frac{1}{P}\\sum_{p=1}^{P}\\left(x_{p,n} - \\mu_n \\right)^2}\n",
    "\\end{array}"
   ]
  },
  {
   "cell_type": "markdown",
   "metadata": {},
   "source": [
    "We could loop over each dimension and compute these values, or just use ``Numpy``'s built in broadcasting to compute them all simultaneously as shown in the next cell."
   ]
  },
  {
   "cell_type": "code",
   "execution_count": 6,
   "metadata": {
    "collapsed": true
   },
   "outputs": [],
   "source": [
    "# normalize a dataset\n",
    "x_means = np.mean(x,axis = 0)\n",
    "x_stds = np.std(x,axis = 0)"
   ]
  },
  {
   "cell_type": "markdown",
   "metadata": {},
   "source": [
    "Then we can use precisely the same ``normalize`` function shown in the previous exercise to perform the normalization."
   ]
  },
  {
   "cell_type": "code",
   "execution_count": 7,
   "metadata": {
    "collapsed": true
   },
   "outputs": [],
   "source": [
    "# a normalization function \n",
    "def normalize(data,data_mean,data_std):\n",
    "    normalized_data = (data - data_mean)/data_std\n",
    "    return normalized_data"
   ]
  },
  {
   "cell_type": "code",
   "execution_count": 8,
   "metadata": {
    "collapsed": true
   },
   "outputs": [],
   "source": [
    "# normalize data using the function above\n",
    "x_orig = copy.deepcopy(x)     # make a copy of the original input\n",
    "x_norm = normalize(x,x_means,x_stds)"
   ]
  },
  {
   "cell_type": "markdown",
   "metadata": {},
   "source": [
    "Now lets look at the distribution of our normalized input."
   ]
  },
  {
   "cell_type": "code",
   "execution_count": 9,
   "metadata": {},
   "outputs": [
    {
     "name": "stderr",
     "output_type": "stream",
     "text": [
      "/anaconda3/envs/magpie/lib/python3.6/site-packages/matplotlib/figure.py:2299: UserWarning: This figure includes Axes that are not compatible with tight_layout, so results might be incorrect.\n",
      "  warnings.warn(\"This figure includes Axes that are not compatible \"\n"
     ]
    },
    {
     "data": {
      "image/png": "[encoded data removed]",
      "text/plain": [
       "<Figure size 432x216 with 1 Axes>"
      ]
     },
     "metadata": {
      "needs_background": "light"
     },
     "output_type": "display_data"
    }
   ],
   "source": [
    "# use the plotting function above\n",
    "title = 'normalized distribution of each input feature'\n",
    "feature_distributions(x_norm,y,title)"
   ]
  },
  {
   "cell_type": "markdown",
   "metadata": {},
   "source": [
    "Much better!  With each input distribution normalized and roughly looking the same we can intuit, no individual weight $w_n$ will be significantly more sensitive (to proper tuning) than the others, so we can expect gradient descent to have a much easier time here."
   ]
  },
  {
   "cell_type": "markdown",
   "metadata": {},
   "source": [
    "**TO DO**\n",
    "\n",
    "Compare the performance of gradient descent in tuning the Least Squares cost function on this dataset when you use the raw dataset versus when you normalize the input.  Use only $25$ iterations of gradient descent in each instance, and in each instance use the largest steplength value $\\alpha$ of the form $10^{-\\gamma}$ (where $\\gamma$ is a positive integer) that produces convergence with an initial point $\\mathbf{w}^0 = \\begin{bmatrix} 0 \\\\ \\vdots \\\\ 0 \\end{bmatrix}$ at the origin (all zeros).\n",
    "\n",
    "**You should turn in:**\n",
    "    \n",
    "**1)** Completed code blocks for a ``predict`` function with a linear model i.e., \n",
    "\n",
    "\\begin{equation}\n",
    "\\text{predict}\\left(\\mathbf{x},\\omega\\right) = w_0 + w_1x_1 + w_2x_2 + \\cdots + w_Nx_N.\n",
    "\\end{equation}\n",
    "\n",
    "\n",
    "for training purposes in ``Python`` along with a ``least_squares`` implementation\n",
    "\n",
    "\n",
    "**2)** a cost function plot for each run of gradient descent, along with a sentence comparing the two runs\n",
    "\n",
    "\n",
    "**3)** You need **not** provide a ``Python`` implementation of the ``predict_testing`` function (defined for the single-input case in Exercise 1) which is used for making predictions using your trained model).  But you must provide its algebraic form - i.e., its equation.  This should be written in a *Markdown* cell in this Jupyter notebook! \n",
    "\n",
    "\n",
    "**Hint:**\n",
    "\n",
    "This is a direct generalization of Exercise 1 - make sure you look at that!  Feel free to steal useful code /markdown chunks from the previous exercise!"
   ]
  },
  {
   "cell_type": "code",
   "execution_count": 10,
   "metadata": {},
   "outputs": [],
   "source": [
    "def predict(x,w):\n",
    "    return w[0] + x[0]*w[1] + x[1]*w[2] + x[2]*w[3] + x[3]*w[4] + x[4]*w[5]"
   ]
  },
  {
   "cell_type": "code",
   "execution_count": 11,
   "metadata": {},
   "outputs": [],
   "source": [
    "def predict_normalized(x,w):\n",
    "    x_1 = normalize(x, x_means, x_stds)\n",
    "    return w[0] + x_1[0]*w[1] + x_1[1]*w[2] + x_1[2]*w[3] + x_1[3]*w[4] + x_1[4]*w[5]"
   ]
  },
  {
   "cell_type": "code",
   "execution_count": 12,
   "metadata": {},
   "outputs": [],
   "source": [
    "least_squares_unnorm = lambda w: np.sum((predict(x,w) - y)**2)\n",
    "least_squares_norm = lambda w: np.sum((predict_normalized(x,w) - y)**2)"
   ]
  },
  {
   "cell_type": "code",
   "execution_count": 13,
   "metadata": {},
   "outputs": [],
   "source": [
    "# UNNORMALIZED COST FUNCTION HISTORY COMPUTATION"
   ]
  },
  {
   "cell_type": "code",
   "execution_count": 14,
   "metadata": {},
   "outputs": [],
   "source": [
    "#Parameters\n",
    "alpha = 10**(-6)\n",
    "w_init = np.zeros((6,1))\n",
    "max_its = 25"
   ]
  },
  {
   "cell_type": "code",
   "execution_count": 15,
   "metadata": {},
   "outputs": [],
   "source": [
    "#Gradient Descent\n",
    "weight_history_unnorm = gradient_descent(least_squares_unnorm, w_init, alpha,max_its,beta = 0, version = 'unnormalized')"
   ]
  },
  {
   "cell_type": "code",
   "execution_count": 16,
   "metadata": {},
   "outputs": [
    {
     "name": "stdout",
     "output_type": "stream",
     "text": [
      "Unnormalized Cost Function History\n"
     ]
    },
    {
     "name": "stderr",
     "output_type": "stream",
     "text": [
      "/anaconda3/envs/magpie/lib/python3.6/site-packages/matplotlib/figure.py:2299: UserWarning: This figure includes Axes that are not compatible with tight_layout, so results might be incorrect.\n",
      "  warnings.warn(\"This figure includes Axes that are not compatible \"\n"
     ]
    },
    {
     "data": {
      "image/png": "[encoded data removed]",
      "text/plain": [
       "<Figure size 504x216 with 1 Axes>"
      ]
     },
     "metadata": {
      "needs_background": "light"
     },
     "output_type": "display_data"
    }
   ],
   "source": [
    "demo = util.Visualizer()\n",
    "\n",
    "cost_history = [least_squares_unnorm(v) for v in weight_history_unnorm]\n",
    "histories = [cost_history]\n",
    "print(\"Unnormalized Cost Function History\")\n",
    "demo.compare_regression_histories(histories)\n",
    "#print('Minimum Cost = ', np.min(cost_history))"
   ]
  },
  {
   "cell_type": "code",
   "execution_count": 17,
   "metadata": {},
   "outputs": [],
   "source": [
    "# NORMALIZED COST FUNCTION HISTORY COMPUTATION"
   ]
  },
  {
   "cell_type": "code",
   "execution_count": 21,
   "metadata": {},
   "outputs": [],
   "source": [
    "#Parameters\n",
    "alpha = 10**(-4)\n",
    "w_init = np.zeros((6,1))\n",
    "max_its = 25"
   ]
  },
  {
   "cell_type": "code",
   "execution_count": 22,
   "metadata": {},
   "outputs": [],
   "source": [
    "weight_history_norm = gradient_descent(least_squares_norm,w_init,alpha,max_its,beta = 0,version = 'unnormalized')"
   ]
  },
  {
   "cell_type": "code",
   "execution_count": 23,
   "metadata": {},
   "outputs": [
    {
     "name": "stdout",
     "output_type": "stream",
     "text": [
      "Nnormalized Cost Function History\n"
     ]
    },
    {
     "name": "stderr",
     "output_type": "stream",
     "text": [
      "/anaconda3/envs/magpie/lib/python3.6/site-packages/matplotlib/figure.py:2299: UserWarning: This figure includes Axes that are not compatible with tight_layout, so results might be incorrect.\n",
      "  warnings.warn(\"This figure includes Axes that are not compatible \"\n"
     ]
    },
    {
     "data": {
      "image/png": "[encoded data removed]",
      "text/plain": [
       "<Figure size 504x216 with 1 Axes>"
      ]
     },
     "metadata": {
      "needs_background": "light"
     },
     "output_type": "display_data"
    }
   ],
   "source": [
    "demo = util.Visualizer()\n",
    "\n",
    "cost_history = [least_squares_norm(v) for v in weight_history_norm]\n",
    "histories = [cost_history]\n",
    "print(\"Nnormalized Cost Function History\")\n",
    "demo.compare_regression_histories(histories)\n",
    "#print('Minimum Cost = ', np.min(cost_history))"
   ]
  },
  {
   "cell_type": "markdown",
   "metadata": {},
   "source": [
    "# EXPLANATION ON METHODOLOGIES : "
   ]
  },
  {
   "cell_type": "markdown",
   "metadata": {},
   "source": [
    "The predict_testing function is :  $$\n",
    "\\text{predict_testing}\\left(\\mathbf{x},\\mathbf{\\omega}\\right) = w_0 + w_1\\left(\\frac{x_1 - \\mu_1}{\\sigma_1}\\right) + w_2\\left(\\frac{x_2 - \\mu_2}{\\sigma_2}\\right) + w_3\\left(\\frac{x_1 - \\mu_1}{\\sigma_1}\\right)\n",
    "$$\n",
    "\n",
    "each x must be normalized for it's input as done in predict_equation. \n",
    "\n",
    "\n",
    "What we can infer from the two plots mentioned above, for unnormalized data : alpha needs to be small to generate decreasing cost values whereas during the post normalization of the input data, alpha can be larger to attain convergence. \n",
    "\n",
    "**For un-normalized we have 10^(-6) and for normalized we have 10^(-4)\n"
   ]
  },
  {
   "cell_type": "code",
   "execution_count": null,
   "metadata": {},
   "outputs": [],
   "source": []
  },
  {
   "cell_type": "code",
   "execution_count": null,
   "metadata": {},
   "outputs": [],
   "source": []
  }
 ],
 "metadata": {
  "kernelspec": {
   "display_name": "Python 3",
   "language": "python",
   "name": "python3"
  },
  "language_info": {
   "codemirror_mode": {
    "name": "ipython",
    "version": 3
   },
   "file_extension": ".py",
   "mimetype": "text/x-python",
   "name": "python",
   "nbconvert_exporter": "python",
   "pygments_lexer": "ipython3",
   "version": "3.6.8"
  },
  "toc": {
   "colors": {
    "hover_highlight": "#DAA520",
    "navigate_num": "#000000",
    "navigate_text": "#333333",
    "running_highlight": "#FF0000",
    "selected_highlight": "#FFD700",
    "sidebar_border": "#EEEEEE",
    "wrapper_background": "#FFFFFF"
   },
   "moveMenuLeft": true,
   "nav_menu": {
    "height": "103px",
    "width": "252px"
   },
   "navigate_menu": true,
   "number_sections": false,
   "sideBar": true,
   "threshold": 4,
   "toc_cell": false,
   "toc_section_display": "block",
   "toc_window_display": false,
   "widenNotebook": false
  },
  "widgets": {
   "application/vnd.jupyter.widget-state+json": {
    "state": {},
    "version_major": 1,
    "version_minor": 0
   }
  }
 },
 "nbformat": 4,
 "nbformat_minor": 2
}
