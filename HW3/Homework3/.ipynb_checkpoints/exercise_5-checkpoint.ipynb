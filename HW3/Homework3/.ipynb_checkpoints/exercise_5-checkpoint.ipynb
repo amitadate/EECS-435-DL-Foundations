{
 "cells": [
  {
   "cell_type": "markdown",
   "metadata": {},
   "source": [
    "# Deep learning from scratch: homework 3"
   ]
  },
  {
   "cell_type": "markdown",
   "metadata": {},
   "source": [
    "### General instructions\n",
    "\n",
    "Complete the exercises listed below in this Jupyter notebook - leaving all of your code in Python cells in the notebook itself.  Feel free to add any necessary cells.  \n",
    "\n",
    "Included with the notebook are \n",
    "\n",
    "- a custom utilities file called `custom_plotter.py` that provides various plotting functionalities (for unit tests to help you debug) as well as some other processing code.\n",
    "\n",
    "\n",
    "- datasets for exercises: `noisy_sin_sample.csv`.\n",
    "\n",
    "be sure you have these files located in the same directory where you put this notebook to work!"
   ]
  },
  {
   "cell_type": "markdown",
   "metadata": {},
   "source": [
    "### When submitting this homework:\n",
    "    \n",
    "**Make sure all output is present in your notebook prior to submission**"
   ]
  },
  {
   "cell_type": "markdown",
   "metadata": {},
   "source": [
    "#### <span style=\"color:#a50e3e;\">Exercise 5. </span>  Implement the ``maxout`` activation function"
   ]
  },
  {
   "cell_type": "markdown",
   "metadata": {},
   "source": [
    "So far we have seen various activation functions, most notably the tanh and relu functions defined below\n",
    "\n",
    "\\begin{array}\n",
    "\\\n",
    "a(x) = \\text{tanh}(w_0 + w_1x) \\\\\n",
    "a(x) = \\text{max}(0,w_0 + w_1x) \\\\\n",
    "\\end{array}\n",
    "\n",
    "In this exercise you will implement the so-called [*maxout* activation](https://arxiv.org/pdf/1302.4389.pdf).  This function, defined as\n",
    "\n",
    "\\begin{array}\n",
    "\\\n",
    "a(x) = \\text{max}(v_0 + v_1x, \\,w_0 + w_1x) \\\\\n",
    "\\end{array}\n",
    "\n",
    "this activation takes maximum of two linear combinations of the input, instead of one linear combination and zero like the relu function.  While this change is algebraically rather minor, multilayer perceptron architectures employing the *maxout* activation tends to have certain advantages over those employing tanh and relu activations, including\n",
    "\n",
    "- fewer issues with problematic initialization  e.g., values close too (or equal to) zero for the *relu* activation are bad because the relu is minimized at zero\n",
    "\n",
    "- fewer issues with gradients vanishing or exploding, as can occur when using the tanh activation\n",
    "\n",
    "- faster convergence with far fewer gradient descent steps\n",
    "\n",
    "These advantages come with a simple price: the maxout activation has twice as many internal parameters as either the relu or tanh, hence architectures built with them have roughly twice as many parameters to tune."
   ]
  },
  {
   "cell_type": "markdown",
   "metadata": {},
   "source": [
    "You should implement this activation by appropriately adjusting the code blocks provided in the previous exercise.  In particular you should implement the activation with an input / activation output distribution normalized architecture. \n",
    "\n",
    "The necessary code block adjustments include\n",
    "\n",
    "- changing the nonlinearity used in the function ``activation``\n",
    "\n",
    "\n",
    "- adjusting the weight initialization module ``initialize_network_weights`` so that instead of creating one random weight matrix per hidden layer, you create and store two random weight matrices of identical size\n",
    "\n",
    "\n",
    "- everything else has been adjusted for you - this includes the ``compute_features_normalized``  and ``compute_features_normalized_testing`` modules \n",
    "\n",
    "\n",
    "- the general progression of code blocks, along with results from a run using the completed architecture, are provided for you below "
   ]
  },
  {
   "cell_type": "markdown",
   "metadata": {},
   "source": [
    "Test out your code using a 5 layer input / activation output normalized architecture with 10 units in each layer, and fit this using a maximum of 200 steps of *unnormalized* gradient descent to the noisy sinusoidal dataset - which is loaded in below.  Within this number of steps you should be able to achieve a Least Squares cost value of 0.5 or less. Use a steplength parameter $\\alpha$ of the form $10^{-\\gamma}$ where $\\gamma$ is the smallest positive integer that produces convergence with your random initial set of weights."
   ]
  },
  {
   "cell_type": "markdown",
   "metadata": {},
   "source": [
    "**You should turn in:**\n",
    "    \n",
    "**1)** your adjusted code blocks\n",
    "    \n",
    "    \n",
    "**2)** a cost function plot for your run of gradient descent that achieves the desired goal\n",
    "\n",
    "\n",
    "**3)** a plot showing your tuned model - using the best weights you found from your descent run - fit to the data (this model should overfit the given data)\n",
    "\n",
    "\n",
    "**Hint:**\n",
    "\n",
    "Feel free to steal useful code chunks from the previous exercise!"
   ]
  },
  {
   "cell_type": "code",
   "execution_count": 2,
   "metadata": {
    "collapsed": true
   },
   "outputs": [],
   "source": [
    "# import autograd functionality\n",
    "import autograd.numpy as np\n",
    "from autograd.misc.flatten import flatten_func\n",
    "from autograd import grad as compute_grad   \n",
    "\n",
    "# import custom utilities and plotter\n",
    "import custom_plotter as plotter\n",
    "\n",
    "# import various other libraries\n",
    "import copy\n",
    "import matplotlib.pyplot as plt\n",
    "\n",
    "# this is needed to compensate for %matplotl+ib notebook's tendancy to blow up images when plotted inline\n",
    "from matplotlib import rcParams\n",
    "rcParams['figure.autolayout'] = True\n",
    "\n",
    "#%matplotlib notebook\n",
    "%load_ext autoreload\n",
    "%autoreload 2"
   ]
  },
  {
   "cell_type": "markdown",
   "metadata": {},
   "source": [
    "Feel free to use the following ``gradient_descent`` function below for this exercise."
   ]
  },
  {
   "cell_type": "code",
   "execution_count": 3,
   "metadata": {
    "collapsed": true
   },
   "outputs": [],
   "source": [
    "# gradient descent function\n",
    "def gradient_descent(g,w,alpha,max_its,beta,version):    \n",
    "    # flatten the input function, create gradient based on flat function\n",
    "    g_flat, unflatten, w = flatten_func(g, w)\n",
    "    grad = compute_grad(g_flat)\n",
    "\n",
    "    # record history\n",
    "    w_hist = []\n",
    "    w_hist.append(unflatten(w))\n",
    "\n",
    "    # start gradient descent loop\n",
    "    z = np.zeros((np.shape(w)))      # momentum term\n",
    "    \n",
    "    # over the line\n",
    "    for k in range(max_its):   \n",
    "        # plug in value into func and derivative\n",
    "        grad_eval = grad(w)\n",
    "        grad_eval.shape = np.shape(w)\n",
    "\n",
    "        ### normalized or unnormalized descent step? ###\n",
    "        if version == 'normalized':\n",
    "            grad_norm = np.linalg.norm(grad_eval)\n",
    "            if grad_norm == 0:\n",
    "                grad_norm += 10**-6*np.sign(2*np.random.rand(1) - 1)\n",
    "            grad_eval /= grad_norm\n",
    "            \n",
    "        # take descent step with momentum\n",
    "        z = beta*z + grad_eval\n",
    "        w = w - alpha*z\n",
    "\n",
    "        # record weight update\n",
    "        w_hist.append(unflatten(w))\n",
    "\n",
    "    return w_hist"
   ]
  },
  {
   "cell_type": "markdown",
   "metadata": {},
   "source": [
    "The dataset is loaded in below."
   ]
  },
  {
   "cell_type": "code",
   "execution_count": 4,
   "metadata": {},
   "outputs": [
    {
     "name": "stderr",
     "output_type": "stream",
     "text": [
      "/anaconda3/envs/magpie/lib/python3.6/site-packages/matplotlib/figure.py:2299: UserWarning: This figure includes Axes that are not compatible with tight_layout, so results might be incorrect.\n",
      "  warnings.warn(\"This figure includes Axes that are not compatible \"\n"
     ]
    },
    {
     "data": {
      "image/png": "[encoded data removed]",
      "text/plain": [
       "<Figure size 648x288 with 1 Axes>"
      ]
     },
     "metadata": {
      "needs_background": "light"
     },
     "output_type": "display_data"
    }
   ],
   "source": [
    "# load data\n",
    "csvname = 'noisy_sin_sample.csv'\n",
    "data = np.loadtxt(csvname,delimiter = ',')\n",
    "x = data[:,:-1]\n",
    "y = data[:,-1:]\n",
    "\n",
    "# plot everything\n",
    "plotter_demo = plotter.Visualizer()\n",
    "plotter_demo.plot_regression_data(x,y)"
   ]
  },
  {
   "cell_type": "markdown",
   "metadata": {},
   "source": [
    "Adjust the original weight initialization module to create twice as many internal weight matrices for the maxout activation."
   ]
  },
  {
   "cell_type": "code",
   "execution_count": 6,
   "metadata": {
    "collapsed": true
   },
   "outputs": [],
   "source": [
    "# create initial weights for arbitrary feedforward network\n",
    "\n",
    "def initialize_network_weights(layer_sizes,scale):\n",
    "    # container for entire weight tensor\n",
    "    weights = []\n",
    "    \n",
    "    # loop over desired layer sizes and create appropriately sized initial \n",
    "    # weight matrix for each layer\n",
    "    for k in range(len(layer_sizes)-1):\n",
    "        # get layer sizes for current weight matrix\n",
    "        U_k = layer_sizes[k]\n",
    "        U_k_plus_1 = layer_sizes[k+1]\n",
    "\n",
    "        \n",
    "        if k < len(layer_sizes)-2:\n",
    "            #make weight matrix\n",
    "            w1 = scale*np.random.randn(U_k + 1,U_k_plus_1)\n",
    "            w2 = scale*np.random.randn(U_k + 1,U_k_plus_1)\n",
    "            weights.append([w1,w2])\n",
    "        else:\n",
    "            # make weight matrix\n",
    "            weight = scale*np.random.randn(U_k + 1,U_k_plus_1)\n",
    "            weights.append(weight)\n",
    "\n",
    "    # re-express weights so that w_init[0] = omega_inner contains all \n",
    "    # internal weight matrices, and w_init[1] = w contains weights of \n",
    "    # final linear combination in predict function\n",
    "    w_init = [weights[:-1],weights[-1]]\n",
    "    \n",
    "    return w_init\n"
   ]
  },
  {
   "cell_type": "markdown",
   "metadata": {},
   "source": [
    "Construct the desired network."
   ]
  },
  {
   "cell_type": "code",
   "execution_count": 7,
   "metadata": {
    "collapsed": true
   },
   "outputs": [],
   "source": [
    "# A 5 layer network architecture\n",
    "N = np.shape(x)[1]\n",
    "M = np.shape(y)[1]\n",
    "U_1 = 10                # number of units in layer 1\n",
    "U_2 = 10                # number of units in layer 2\n",
    "U_3 = 10                # number of units in layer 3\n",
    "U_4 = 10                # number of units in layer 4\n",
    "U_5 = 10                # number of units in layer 5\n",
    "\n",
    "# the list defines our network architecture\n",
    "layer_sizes = [N, U_1,U_2,U_3,U_4,U_5,M]\n",
    "\n",
    "# generate initial weights for our network\n",
    "w_init = initialize_network_weights(layer_sizes,scale = 0.5)"
   ]
  },
  {
   "cell_type": "markdown",
   "metadata": {},
   "source": [
    "Now lets normalize our input."
   ]
  },
  {
   "cell_type": "code",
   "execution_count": 8,
   "metadata": {
    "collapsed": true
   },
   "outputs": [],
   "source": [
    "# our normalization function\n",
    "def normalize(data,data_mean,data_std):\n",
    "    normalized_data = (data - data_mean)/data_std\n",
    "    return normalized_data"
   ]
  },
  {
   "cell_type": "code",
   "execution_count": 9,
   "metadata": {
    "collapsed": true
   },
   "outputs": [],
   "source": [
    "# compute the mean and standard deviation of our input, then normalize the input\n",
    "x_means = np.mean(x,axis = 0)\n",
    "x_stds = np.std(x,axis = 0)\n",
    "\n",
    "# normalize the input data\n",
    "x_normed = normalize(x,x_means,x_stds)"
   ]
  },
  {
   "cell_type": "markdown",
   "metadata": {},
   "source": [
    "Define the activation function."
   ]
  },
  {
   "cell_type": "code",
   "execution_count": 10,
   "metadata": {
    "collapsed": true
   },
   "outputs": [],
   "source": [
    "def activation(a,b):\n",
    "    # maxout activation\n",
    "    ##### YOUR CODE GOES HERE\n",
    "    f = np.maximum(a,b)\n",
    "    return f"
   ]
  },
  {
   "cell_type": "markdown",
   "metadata": {},
   "source": [
    "Our normalized network architecture compute function."
   ]
  },
  {
   "cell_type": "code",
   "execution_count": 11,
   "metadata": {
    "collapsed": true
   },
   "outputs": [],
   "source": [
    "def compute_features_normalized(x, inner_weights):\n",
    "    # pad data with ones to deal with bias\n",
    "    o = np.ones((np.shape(x)[0],1))\n",
    "    a_padded = np.concatenate((o,x),axis = 1)\n",
    "        \n",
    "    # loop through weights and update each layer of the network\n",
    "    for W1,W2 in inner_weights:                                  ###### THIS LINE WAS CHANGED FROM THE ORIGINAL #####\n",
    "        # output of layer activation  \n",
    "        a = activation(np.dot(a_padded,W1),np.dot(a_padded,W2))  ###### THIS LINE WAS CHANGED FROM THE ORIGINAL #####\n",
    "                \n",
    "        ### normalize output of activation\n",
    "        # compute the mean and standard deviation of the activation output distributions\n",
    "        a_means = np.mean(a,axis = 0)\n",
    "        a_stds = np.std(a,axis = 0)\n",
    "        \n",
    "        # normalize the activation outputs\n",
    "        a_normed = normalize(a,a_means,a_stds)\n",
    "            \n",
    "        # pad with ones for bias\n",
    "        o = np.ones((np.shape(a_normed)[0],1))\n",
    "        a_padded = np.concatenate((o,a_normed),axis = 1)\n",
    "    \n",
    "    return a_padded"
   ]
  },
  {
   "cell_type": "markdown",
   "metadata": {},
   "source": [
    "Our ``predict`` function for the normalized architecture, along with a least squares function."
   ]
  },
  {
   "cell_type": "code",
   "execution_count": 12,
   "metadata": {
    "collapsed": true
   },
   "outputs": [],
   "source": [
    "# our predict function \n",
    "def predict_normalized(x,w):     \n",
    "    # feature trasnsformations\n",
    "    f = compute_features_normalized(x,w[0])\n",
    "    \n",
    "    # compute linear model\n",
    "    vals = np.dot(f,w[1])\n",
    "    return vals\n",
    "\n",
    "# least squares\n",
    "least_squares_normalized = lambda w: np.sum((predict_normalized(x_normed,w) - y)**2)"
   ]
  },
  {
   "cell_type": "markdown",
   "metadata": {},
   "source": [
    "Now we perform the same run of gradient descent with the desired parameters set."
   ]
  },
  {
   "cell_type": "code",
   "execution_count": 31,
   "metadata": {
    "collapsed": true
   },
   "outputs": [
    {
     "name": "stderr",
     "output_type": "stream",
     "text": [
      "/anaconda3/envs/magpie/lib/python3.6/site-packages/autograd/numpy/numpy_vjps.py:444: FutureWarning: Using a non-tuple sequence for multidimensional indexing is deprecated; use `arr[tuple(seq)]` instead of `arr[seq]`. In the future this will be interpreted as an array index, `arr[np.array(seq)]`, which will result either in an error or a different result.\n",
      "  return lambda g: g[idxs]\n",
      "/anaconda3/envs/magpie/lib/python3.6/site-packages/autograd/numpy/numpy_boxes.py:13: FutureWarning: Using a non-tuple sequence for multidimensional indexing is deprecated; use `arr[tuple(seq)]` instead of `arr[seq]`. In the future this will be interpreted as an array index, `arr[np.array(seq)]`, which will result either in an error or a different result.\n",
      "  def __getitem__(A, idx): return A[idx]\n",
      "/anaconda3/envs/magpie/lib/python3.6/site-packages/autograd/numpy/numpy_vjps.py:597: FutureWarning: Using a non-tuple sequence for multidimensional indexing is deprecated; use `arr[tuple(seq)]` instead of `arr[seq]`. In the future this will be interpreted as an array index, `arr[np.array(seq)]`, which will result either in an error or a different result.\n",
      "  onp.add.at(A, idx, x)\n"
     ]
    }
   ],
   "source": [
    "# parameters of gradient descent\n",
    "#alpha =  ???????????? ;  max_its = 200; beta = 0; \n",
    "alpha =  10**-3 ;  max_its = 200; beta = 0; \n",
    "\n",
    "# run gradient descent, create cost history (for cost function plot comparison) associated with output weight history\n",
    "weight_history_1 = gradient_descent(least_squares_normalized,w_init,alpha,max_its,beta,version = 'unnormalized')\n",
    "cost_history_1 = [least_squares_normalized(v) for v in weight_history_1]"
   ]
  },
  {
   "cell_type": "markdown",
   "metadata": {},
   "source": [
    "With our run comoplete we can now examine its cost history to visualize just how quickly gradient descent fits our maxout-based normalized architecture to the sinusoidal dataset.  Note: we are plotting from iteration 20 to 200 here."
   ]
  },
  {
   "cell_type": "code",
   "execution_count": 37,
   "metadata": {},
   "outputs": [
    {
     "name": "stderr",
     "output_type": "stream",
     "text": [
      "/anaconda3/envs/magpie/lib/python3.6/site-packages/matplotlib/figure.py:2299: UserWarning: This figure includes Axes that are not compatible with tight_layout, so results might be incorrect.\n",
      "  warnings.warn(\"This figure includes Axes that are not compatible \"\n"
     ]
    },
    {
     "data": {
      "image/png": "[encoded data removed]",
      "text/plain": [
       "<Figure size 576x216 with 1 Axes>"
      ]
     },
     "metadata": {
      "needs_background": "light"
     },
     "output_type": "display_data"
    },
    {
     "name": "stdout",
     "output_type": "stream",
     "text": [
      "Minimum LS cost error =  0.2986399282901896\n"
     ]
    }
   ],
   "source": [
    "# plot the cost function history for our current run of gradient descent\n",
    "histories = [cost_history_1]\n",
    "labels = ['my run']\n",
    "plotter_demo = plotter.Visualizer()\n",
    "plotter_demo.compare_regression_histories(histories,start=20,labels=labels)\n",
    "print('Minimum LS cost error = ', np.min(cost_history_1))"
   ]
  },
  {
   "cell_type": "markdown",
   "metadata": {},
   "source": [
    "Now lets produce a plot of our fit to the dataset."
   ]
  },
  {
   "cell_type": "code",
   "execution_count": 33,
   "metadata": {
    "collapsed": true
   },
   "outputs": [],
   "source": [
    "def compute_features_normalized_testing(x, inner_weights,stats):\n",
    "    '''\n",
    "    An adjusted normalized architecture compute function that collects network statistics as the training data\n",
    "    passes through each layer, and applies them to properly normalize test data.\n",
    "    '''\n",
    "    # are you using this to compute stats on training data (stats empty) or to normalize testing data (stats not empty)\n",
    "    switch =  'testing'\n",
    "    if np.size(stats) == 0:\n",
    "        switch = 'training'\n",
    "        \n",
    "    # if no stats given collect directly from input\n",
    "    x_means = 0\n",
    "    y_means = 0\n",
    "    if switch == 'training':\n",
    "        x_means = np.mean(x,axis = 0)\n",
    "        x_stds = np.std(x,axis = 0)\n",
    "        stats.append([x_means,x_stds])\n",
    "    elif switch == 'testing':\n",
    "        x_means = stats[0][0]\n",
    "        x_stds = stats[0][1]\n",
    "\n",
    "    # normalize input\n",
    "    x_normed = normalize(x,x_means,x_stds)\n",
    "    \n",
    "    # pad data with ones to deal with bias\n",
    "    o = np.ones((np.shape(x_normed)[0],1))\n",
    "    a_padded = np.concatenate((o,x_normed),axis = 1)\n",
    "        \n",
    "    # loop through weights and update each layer of the network\n",
    "    c = 1\n",
    "    for W1,W2 in inner_weights:                                    ###### THIS LINE WAS CHANGED FROM THE ORIGINAL #####\n",
    "        # output of layer activation\n",
    "        a = activation(np.dot(a_padded,W1),np.dot(a_padded,W2))    ###### THIS LINE WAS CHANGED FROM THE ORIGINAL #####\n",
    "                \n",
    "        ### normalize output of activation\n",
    "        a_means = 0\n",
    "        a_stds = 0\n",
    "        if switch == 'training':\n",
    "            # compute the mean and standard deviation of the activation output distributions\n",
    "            a_means = np.mean(a,axis = 0)\n",
    "            a_stds = np.std(a,axis = 0)\n",
    "            stats.append([a_means,a_stds])\n",
    "        elif switch == 'testing':\n",
    "            a_means = stats[c][0]\n",
    "            a_stds = stats[c][1]\n",
    "            \n",
    "        # normalize the activation outputs\n",
    "        a_normed = normalize(a,a_means,a_stds)\n",
    "            \n",
    "        # pad with ones for bias\n",
    "        o = np.ones((np.shape(a_normed)[0],1))\n",
    "        a_padded = np.concatenate((o,a_normed),axis = 1)\n",
    "        c+=1\n",
    "    \n",
    "    return a_padded,stats"
   ]
  },
  {
   "cell_type": "markdown",
   "metadata": {},
   "source": [
    "Find the best weights according to our cost history, get training stats with respect to these weights."
   ]
  },
  {
   "cell_type": "code",
   "execution_count": 34,
   "metadata": {
    "collapsed": true
   },
   "outputs": [],
   "source": [
    "# collect training normalization statistics for the final set of weights learned by gradient descent\n",
    "best_ind = np.argmin(cost_history_1)\n",
    "w1 = weight_history_1[best_ind]\n",
    "a_padded,training_stats_1 = compute_features_normalized_testing(x,w1[0],[])"
   ]
  },
  {
   "cell_type": "markdown",
   "metadata": {},
   "source": [
    "Now to use our ``compute_features_normalized_testing`` function on new test data we create a testing prediction function that calls it, which we call ``predict_testing``."
   ]
  },
  {
   "cell_type": "code",
   "execution_count": 35,
   "metadata": {
    "collapsed": true
   },
   "outputs": [],
   "source": [
    "# our predict function \n",
    "def predict_testing_1(x,w):     \n",
    "    # feature trasnsformations\n",
    "    f,stats = compute_features_normalized_testing(x,w[0],training_stats_1)\n",
    "    \n",
    "    # compute linear model\n",
    "    vals = np.dot(f,w[1])\n",
    "    return vals"
   ]
  },
  {
   "cell_type": "markdown",
   "metadata": {},
   "source": [
    "Here was the associated fit I was able to get - quite a bit of overfitting here!"
   ]
  },
  {
   "cell_type": "code",
   "execution_count": 36,
   "metadata": {
    "scrolled": false
   },
   "outputs": [
    {
     "name": "stderr",
     "output_type": "stream",
     "text": [
      "/anaconda3/envs/magpie/lib/python3.6/site-packages/matplotlib/figure.py:2299: UserWarning: This figure includes Axes that are not compatible with tight_layout, so results might be incorrect.\n",
      "  warnings.warn(\"This figure includes Axes that are not compatible \"\n"
     ]
    },
    {
     "data": {
      "image/png": "[encoded data removed]",
      "text/plain": [
       "<Figure size 648x288 with 1 Axes>"
      ]
     },
     "metadata": {
      "needs_background": "light"
     },
     "output_type": "display_data"
    }
   ],
   "source": [
    "# compare final fits using unnormalized and normalized predictors\n",
    "plotter_demo.plot_regression_data(x,y,predict = predict_testing_1,weights = w1)"
   ]
  },
  {
   "cell_type": "markdown",
   "metadata": {},
   "source": [
    "# EXPLANATION OF CHOSEN METHODOLOGIES:\n",
    "As we can see from the above plot there is quite a bit of overfitting here, the minimum cost we were able to get was 0.29."
   ]
  },
  {
   "cell_type": "code",
   "execution_count": null,
   "metadata": {},
   "outputs": [],
   "source": []
  }
 ],
 "metadata": {
  "kernelspec": {
   "display_name": "Python 3",
   "language": "python",
   "name": "python3"
  },
  "language_info": {
   "codemirror_mode": {
    "name": "ipython",
    "version": 3
   },
   "file_extension": ".py",
   "mimetype": "text/x-python",
   "name": "python",
   "nbconvert_exporter": "python",
   "pygments_lexer": "ipython3",
   "version": "3.6.8"
  },
  "toc": {
   "colors": {
    "hover_highlight": "#DAA520",
    "navigate_num": "#000000",
    "navigate_text": "#333333",
    "running_highlight": "#FF0000",
    "selected_highlight": "#FFD700",
    "sidebar_border": "#EEEEEE",
    "wrapper_background": "#FFFFFF"
   },
   "moveMenuLeft": true,
   "nav_menu": {
    "height": "103px",
    "width": "252px"
   },
   "navigate_menu": true,
   "number_sections": false,
   "sideBar": true,
   "threshold": 4,
   "toc_cell": false,
   "toc_section_display": "block",
   "toc_window_display": false,
   "widenNotebook": false
  },
  "widgets": {
   "application/vnd.jupyter.widget-state+json": {
    "state": {},
    "version_major": 1,
    "version_minor": 0
   }
  }
 },
 "nbformat": 4,
 "nbformat_minor": 2
}
