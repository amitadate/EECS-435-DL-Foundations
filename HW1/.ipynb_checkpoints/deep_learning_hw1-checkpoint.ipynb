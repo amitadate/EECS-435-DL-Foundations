{
 "cells": [
  {
   "cell_type": "markdown",
   "metadata": {},
   "source": [
    "# Deep learning from scratch: homework 1"
   ]
  },
  {
   "cell_type": "markdown",
   "metadata": {},
   "source": [
    "### Python 3 / Jupyter install instructions"
   ]
  },
  {
   "cell_type": "markdown",
   "metadata": {},
   "source": [
    "For those having trouble getting Jupyter notebook up and running I recommend installing the Anaconda Python 3 distribution - which you can [find here](https://www.anaconda.com/download/).  The basic distribution includes a number of useful libraries - including numpy, matplotlib, and Jupyter itself - and makes it easier to install additional libraries as well.  Just make sure you download the Python 3.6 distribution if you do this.\n",
    "\n",
    "You will also need the automatic differentiator [autograd](https://github.com/HIPS/autograd) - you can install this package via your terminal by typing \n",
    "\n",
    "``pip install autograd``"
   ]
  },
  {
   "cell_type": "markdown",
   "metadata": {},
   "source": [
    "#### <span style=\"color:#a50e3e;\">Example 1. </span> Getting to know autograd"
   ]
  },
  {
   "cell_type": "markdown",
   "metadata": {},
   "source": [
    "Time to add in a powerful gradient calculator that works well with the numpy library.  [Click here to view the github repo](https://github.com/HIPS/autograd) - download its contents to your machine. "
   ]
  },
  {
   "cell_type": "markdown",
   "metadata": {},
   "source": [
    "When using autograd for automatic differentiation, be sure to employ autograd's version of numpy - so that the automatic differentiator can correctly parse your input functions."
   ]
  },
  {
   "cell_type": "code",
   "execution_count": 1,
   "metadata": {
    "collapsed": true
   },
   "outputs": [],
   "source": [
    "# import statement for autograd wrapped numpy\n",
    "import autograd.numpy as np   "
   ]
  },
  {
   "cell_type": "markdown",
   "metadata": {},
   "source": [
    "There are two standard ways of defining functions in Python.  First the the standard named Python function like below"
   ]
  },
  {
   "cell_type": "code",
   "execution_count": 2,
   "metadata": {
    "collapsed": true
   },
   "outputs": [],
   "source": [
    "# a named Python function\n",
    "def sin(w):\n",
    "    return np.sin(w)"
   ]
  },
  {
   "cell_type": "markdown",
   "metadata": {},
   "source": [
    "WIth this declaration Python now understands 'sin' as its own function, so it can be called as follows."
   ]
  },
  {
   "cell_type": "code",
   "execution_count": 3,
   "metadata": {},
   "outputs": [
    {
     "name": "stdout",
     "output_type": "stream",
     "text": [
      "0.841470984808\n"
     ]
    }
   ],
   "source": [
    "# how to use the 'sin' function\n",
    "w_val = 1.0   # a test input for our 'sin' function\n",
    "g_val = sin(w_val)\n",
    "print (g_val)"
   ]
  },
  {
   "cell_type": "markdown",
   "metadata": {},
   "source": [
    "You can also create 'anonymous' functions in Python (functions unconnected to a name) by using the ``lambda`` command.  We can produce the same function using lambda as shown below."
   ]
  },
  {
   "cell_type": "code",
   "execution_count": 4,
   "metadata": {
    "collapsed": true
   },
   "outputs": [],
   "source": [
    "# how to use 'lambda' to create an anonymous function\n",
    "g = lambda w: np.sin(w)"
   ]
  },
  {
   "cell_type": "markdown",
   "metadata": {},
   "source": [
    "We can then use it with a test value as shown below."
   ]
  },
  {
   "cell_type": "code",
   "execution_count": 5,
   "metadata": {},
   "outputs": [
    {
     "name": "stdout",
     "output_type": "stream",
     "text": [
      "0.841470984808\n"
     ]
    }
   ],
   "source": [
    "# how to use the 'sin' function\n",
    "w_val = 1.0   # a test input for our 'sin' function\n",
    "g_val = g(w_val)\n",
    "print (g_val)"
   ]
  },
  {
   "cell_type": "markdown",
   "metadata": {},
   "source": [
    "We can visualize this function by using ``matplotlib`` assets, as shown below.  "
   ]
  },
  {
   "cell_type": "code",
   "execution_count": 6,
   "metadata": {
    "collapsed": true
   },
   "outputs": [],
   "source": [
    "# the import statement for matplotlib\n",
    "import matplotlib.pyplot as plt"
   ]
  },
  {
   "cell_type": "code",
   "execution_count": 7,
   "metadata": {},
   "outputs": [
    {
     "data": {
      "image/png": "[encoded data removed]",
      "text/plain": [
       "<matplotlib.figure.Figure at 0x10e88d6d8>"
      ]
     },
     "metadata": {},
     "output_type": "display_data"
    }
   ],
   "source": [
    "# create a sample of points to plot over \n",
    "w_vals = np.linspace(-5,5,200)\n",
    "\n",
    "# evaluate the function over each of these values - one can use an explicit for-loop here instead of a list comprehension\n",
    "g_vals = [g(v) for v in w_vals]\n",
    "\n",
    "# plot\n",
    "fig, ax = plt.subplots(1, 1, figsize=(6,3))\n",
    "ax.plot(w_vals,g_vals)\n",
    "plt.show()"
   ]
  },
  {
   "cell_type": "markdown",
   "metadata": {},
   "source": [
    "Using autograd we can then compute the gradient function here.  We show the proper import statement and manner of using this calculator below.Mm"
   ]
  },
  {
   "cell_type": "code",
   "execution_count": 8,
   "metadata": {
    "collapsed": true
   },
   "outputs": [],
   "source": [
    "# import statment for gradient calculator\n",
    "from autograd import grad    "
   ]
  },
  {
   "cell_type": "code",
   "execution_count": 9,
   "metadata": {
    "collapsed": true
   },
   "outputs": [],
   "source": [
    "# create the gradient function of g --> nabla_g\n",
    "nabla_g = grad(g)"
   ]
  },
  {
   "cell_type": "markdown",
   "metadata": {},
   "source": [
    "The gradient function can be evaluated like the original - as shown in the next cell."
   ]
  },
  {
   "cell_type": "code",
   "execution_count": 10,
   "metadata": {},
   "outputs": [
    {
     "data": {
      "text/plain": [
       "0.54030230586813977"
      ]
     },
     "execution_count": 10,
     "metadata": {},
     "output_type": "execute_result"
    }
   ],
   "source": [
    "# evaluate the gradient function at a point\n",
    "w_val = 1.0\n",
    "nabla_g(1.0)"
   ]
  },
  {
   "cell_type": "markdown",
   "metadata": {},
   "source": [
    "Now we can plot the gradient along with the original function, which we do in the next cell."
   ]
  },
  {
   "cell_type": "code",
   "execution_count": 11,
   "metadata": {},
   "outputs": [
    {
     "data": {
      "image/png": "[encoded data removed]",
      "text/plain": [
       "<matplotlib.figure.Figure at 0x1109285c0>"
      ]
     },
     "metadata": {},
     "output_type": "display_data"
    }
   ],
   "source": [
    "# create space over which to evaluate function and gradient\n",
    "w_vals = np.linspace(-5,5,200)\n",
    "\n",
    "# evaluate gradient over input range\n",
    "g_vals = [g(v) for v in w_vals]\n",
    "grad_vals = [nabla_g(v) for v in w_vals]\n",
    "\n",
    "# create figure\n",
    "fig, ax = plt.subplots(1, 1, figsize=(6,3))\n",
    "\n",
    "# plot function and gradient values\n",
    "ax.plot(w_vals,g_vals)\n",
    "ax.plot(w_vals,grad_vals)\n",
    "ax.legend(['func','derivative'],loc='center left', bbox_to_anchor=(1, 0.5))\n",
    "plt.show()"
   ]
  },
  {
   "cell_type": "markdown",
   "metadata": {},
   "source": [
    "---"
   ]
  },
  {
   "cell_type": "markdown",
   "metadata": {},
   "source": [
    "#### <span style=\"color:#a50e3e;\">Exercise 1. </span> Python class refresher"
   ]
  },
  {
   "cell_type": "markdown",
   "metadata": {},
   "source": [
    "Roll up the Python functions provided for you in the previous example to make a Python class for computing and viewing single input derivatives called ``GradViewer``.  Instances should be initialized with the input function to differentiate, and the gradient function can be computed on initialization as well.\n",
    "\n",
    "When complete you should be able to successfully run the cell below."
   ]
  },
  {
   "cell_type": "code",
   "execution_count": 14,
   "metadata": {},
   "outputs": [
    {
     "data": {
      "image/png": "[encoded data removed]",
      "text/plain": [
       "<matplotlib.figure.Figure at 0x1109338d0>"
      ]
     },
     "metadata": {},
     "output_type": "display_data"
    }
   ],
   "source": [
    "# test function input\n",
    "def my_function(w):                 \n",
    "    y = np.sin(w**3)\n",
    "    return y\n",
    "\n",
    "# create instance, inputting function on creation\n",
    "test = GradViewer(my_function)\n",
    "\n",
    "# plot this derivative and original function\n",
    "test.plot_it()"
   ]
  },
  {
   "cell_type": "markdown",
   "metadata": {},
   "source": [
    "Next with your derivative viewer complete - visualize the following function and its derivative using the cell above.\n",
    "\n",
    "\\begin{equation}\n",
    "g(w) = \\sum_{n = 0}^{10} \\text{cos}(n\\cdot w)\n",
    "\\end{equation}"
   ]
  },
  {
   "cell_type": "markdown",
   "metadata": {},
   "source": [
    "#### <span style=\"color:#a50e3e;\">Exercise 2. </span> Python class refresher part 2"
   ]
  },
  {
   "cell_type": "markdown",
   "metadata": {},
   "source": [
    "Extend the class you put together in exercise 1 into a new class called ``OrderViewer`` that can compute a higher order derivative of any desired order of an input function, and plots both.  Make a new function for this class ``compute_it`` that takes in the desired ``order`` and computes this order derivative.\n",
    "\n",
    "When complete you should be able to successfully run the cell below."
   ]
  },
  {
   "cell_type": "code",
   "execution_count": 16,
   "metadata": {},
   "outputs": [
    {
     "data": {
      "image/png": "[encoded data removed]",
      "text/plain": [
       "<matplotlib.figure.Figure at 0x110b16710>"
      ]
     },
     "metadata": {},
     "output_type": "display_data"
    }
   ],
   "source": [
    "# test function input\n",
    "def my_function(w):                 \n",
    "    y = w**2\n",
    "    return y\n",
    "\n",
    "# create instance, inputting function on creation\n",
    "test = OrderViewer(my_function)\n",
    "\n",
    "# compute desired order derivative\n",
    "test.compute_it(order = 3)\n",
    "\n",
    "# plot this derivative and original function\n",
    "test.plot_it()"
   ]
  },
  {
   "cell_type": "markdown",
   "metadata": {},
   "source": [
    "#### <span style=\"color:#a50e3e;\">Exercise 3. </span>  A generic gradient descent function"
   ]
  },
  {
   "cell_type": "markdown",
   "metadata": {},
   "source": [
    "Adjust the gradient descent code below we saw in class to record the weights at each step of algorithm (instead of the best weights) and return the entire weight history.  Remember here the inputs are \n",
    "\n",
    "- g: the input function to perform gradient descent on\n",
    "- alpha: the steplength parameter\n",
    "- max_its: the number of gradient descent steps to take\n",
    "- w: the initial point"
   ]
  },
  {
   "cell_type": "markdown",
   "metadata": {},
   "source": [
    "Your version of the ``gradient_descent`` below should return a history of weights recorded at each step called ``weight_history``. "
   ]
  },
  {
   "cell_type": "code",
   "execution_count": 17,
   "metadata": {
    "collapsed": true
   },
   "outputs": [],
   "source": [
    "# gradient descent function - inputs: g (input function), alpha (steplength parameter), max_its (maximum number of iterations), w (initialization)\n",
    "def gradient_descent(g,alpha,max_its,w):\n",
    "    # compute the gradient of our input function - note this is a function too!\n",
    "    gradient = grad(g)\n",
    "\n",
    "    # run the gradient descent loop\n",
    "    best_w = w        # weight we return, should be the one providing lowest evaluation\n",
    "    best_eval = g(w)       # lowest evaluation yet\n",
    "    for k in range(max_its):\n",
    "        # evaluate the gradient\n",
    "        grad_eval = gradient(w)\n",
    "\n",
    "        # take gradient descent step\n",
    "        w = w - alpha*grad_eval\n",
    "        \n",
    "        # return only the weight providing the lowest evaluation\n",
    "        test_eval = g(w)\n",
    "        if test_eval < best_eval:\n",
    "            best_eval = test_eval\n",
    "            best_w = w\n",
    "            \n",
    "    return best_w"
   ]
  },
  {
   "cell_type": "markdown",
   "metadata": {},
   "source": [
    "Next run gradient descent to minimize the following function\n",
    "\n",
    "\\begin{equation}\n",
    "g(w) = \\frac{1}{50}\\left(w^4 + w^2 + 10w\\right)\n",
    "\\end{equation}\n",
    "\n",
    "with an initial point $w_0 = 2$, steplength parameter $\\alpha = 0.1$, and 2000 iterations.  "
   ]
  },
  {
   "cell_type": "code",
   "execution_count": 10,
   "metadata": {
    "collapsed": true
   },
   "outputs": [],
   "source": [
    "# create the input function\n",
    "g = lambda w: 1/float(50)*(w**4 + w**2 + 10*w)   # try other functions too!  Like g = lambda w: np.cos(2*w) , g = lambda w: np.sin(5*w) + 0.1*w**2, g = lambda w: np.cos(5*w)*np.sin(w)\n",
    "\n",
    "# run gradient descent\n",
    "weight_history = gradient_descent(g = g,alpha = 10**-2,max_its = 2000,w = 2.0)"
   ]
  },
  {
   "cell_type": "markdown",
   "metadata": {},
   "source": [
    "Create a Python function that takes in the weight history created by gradient descent and plots the cost function history associated with this run.  A wrapper for this is provided below"
   ]
  },
  {
   "cell_type": "code",
   "execution_count": 11,
   "metadata": {
    "collapsed": true
   },
   "outputs": [],
   "source": [
    "# cost function history plotter\n",
    "def cost_history(weight_history,g):\n",
    "    # loop over weight history and compute associated cost function history at each step\n",
    "\n",
    "        \n",
    "    # plot cost function history\n",
    "\n",
    "    \n",
    "    plt.show()"
   ]
  },
  {
   "cell_type": "markdown",
   "metadata": {},
   "source": [
    "Now use ``cost_history`` above to plot your cost function history."
   ]
  },
  {
   "cell_type": "code",
   "execution_count": 12,
   "metadata": {},
   "outputs": [
    {
     "data": {
      "image/png": "[encoded data removed]",
      "text/plain": [
       "<matplotlib.figure.Figure at 0x111f0a390>"
      ]
     },
     "metadata": {},
     "output_type": "display_data"
    }
   ],
   "source": [
    "# use cost_history plotter\n",
    "cost_history(weight_history,g)"
   ]
  },
  {
   "cell_type": "markdown",
   "metadata": {},
   "source": [
    "What is the weight associated with the smallest cost function value on your run of gradient descent?  Make sure it is close to the true solution at \n",
    "\n",
    "\\begin{equation}\n",
    "w = \\frac{\\sqrt[\\leftroot{-2}\\uproot{2}3]{\\sqrt[\\leftroot{-2}\\uproot{2}]{2031} - 45}}{6^{\\frac{2}{3}}} - \\frac{1}{\\sqrt[\\leftroot{-2}\\uproot{2}3]{6\\left(\\sqrt[\\leftroot{-2}\\uproot{2}]{2031} - 45\\right)}}\n",
    "\\end{equation}"
   ]
  },
  {
   "cell_type": "markdown",
   "metadata": {},
   "source": [
    "#### <span style=\"color:#a50e3e;\">Exercise 4. </span>  Apply gradient descent to minimize the Least Squares cost for linear regression on a low dimensional dataset"
   ]
  },
  {
   "cell_type": "markdown",
   "metadata": {},
   "source": [
    "In this exercise you will perform gradient descent to minimize the Least Squares cost function for linear regression, using the following toy data to de-bug your work."
   ]
  },
  {
   "cell_type": "code",
   "execution_count": 93,
   "metadata": {
    "collapsed": true
   },
   "outputs": [],
   "source": [
    "# data input\n",
    "csvname = '2d_linregress_data.csv'\n",
    "data = np.loadtxt(csvname,delimiter = ',')"
   ]
  },
  {
   "cell_type": "markdown",
   "metadata": {},
   "source": [
    "The first and second columns of ``data`` contain the input and output respectively.  This dataset is scatter plot in the next cell."
   ]
  },
  {
   "cell_type": "code",
   "execution_count": 94,
   "metadata": {},
   "outputs": [
    {
     "data": {
      "image/png": "[encoded data removed]",
      "text/plain": [
       "<matplotlib.figure.Figure at 0x114420c18>"
      ]
     },
     "metadata": {},
     "output_type": "display_data"
    }
   ],
   "source": [
    "# scatter plot the input data\n",
    "fig, ax = plt.subplots(1, 1, figsize=(4,4))\n",
    "ax.scatter(data[:,0],data[:,1],color = 'k',edgecolor = 'w')\n",
    "plt.show()"
   ]
  },
  {
   "cell_type": "markdown",
   "metadata": {},
   "source": [
    "Since we have a gradient descent function (from e.g., the last exercise) all we need to do construct a Least Squares cost function for linear regression.  We did this in class - see below!"
   ]
  },
  {
   "cell_type": "code",
   "execution_count": 95,
   "metadata": {
    "collapsed": true
   },
   "outputs": [],
   "source": [
    "# form the input/output data vectors\n",
    "x = data[:,:-1]\n",
    "y = data[:,-1]\n",
    "\n",
    "# least squares cost function for linear regression\n",
    "def least_squares(w):\n",
    "    cost = 0\n",
    "    for p in range(len(y)):\n",
    "        # get pth input/output pair\n",
    "        x_p = x[p]\n",
    "        y_p = y[p]\n",
    "        \n",
    "        # form linear combination\n",
    "        c_p = w[0] + w[1]*x_p\n",
    "        \n",
    "        # add least squares for this datapoint\n",
    "        cost += (c_p - y_p)**2\n",
    "        \n",
    "    return cost"
   ]
  },
  {
   "cell_type": "markdown",
   "metadata": {},
   "source": [
    "We can test ``least_squares`` by plugging in an input weight and see the returned cost function value, as illustrated below."
   ]
  },
  {
   "cell_type": "code",
   "execution_count": 17,
   "metadata": {},
   "outputs": [
    {
     "data": {
      "text/plain": [
       "148.2113714062543"
      ]
     },
     "execution_count": 17,
     "metadata": {},
     "output_type": "execute_result"
    }
   ],
   "source": [
    "# try out least squares function\n",
    "w = np.asarray([1.5,1.5])\n",
    "least_squares(w)"
   ]
  },
  {
   "cell_type": "markdown",
   "metadata": {},
   "source": [
    "With your Least Squares cost function defined its time to run gradient descent for a maximum of 500 iterations beginning at the point $w_0 = \\begin{bmatrix} 1.5 \\\\ 1.5\\end{bmatrix}$.  It will be up to you to find a reasonable steplength value $\\alpha$ so that the best weights you can find for a run of gradient descent provide a line that fits the data well."
   ]
  },
  {
   "cell_type": "code",
   "execution_count": null,
   "metadata": {
    "collapsed": true
   },
   "outputs": [],
   "source": [
    "# run gradient descent\n",
    "w = np.asarray([1.5,1.5])\n",
    "weight_history = gradient_descent(g = least_squares,alpha = ???,max_its = 500,w = w)"
   ]
  },
  {
   "cell_type": "markdown",
   "metadata": {},
   "source": [
    "You should do this by trying a particular value of $\\alpha$, running gradient descent, and plotting the associated Mean Squared Error (MSE) for every weight in your gradient descent history (remember: to compute the MSE simply divide the Least Squares cost by the number of datapoints).  You should show the histories of 3 choices for $\\alpha$ you tried.  Feel free to use any of the functionality from previous exercises here.  A wrapper for your MSE calculator has been provided in the next cell."
   ]
  },
  {
   "cell_type": "code",
   "execution_count": null,
   "metadata": {
    "collapsed": true
   },
   "outputs": [],
   "source": [
    "# MSE history plotter\n",
    "def MSE(weight_history,g):\n",
    "    # loop over weight history and compute the MSE at each step o gradient descent\n",
    "\n",
    "        \n",
    "    # plot cost function history\n",
    "\n",
    "    \n",
    "    plt.show()"
   ]
  },
  {
   "cell_type": "markdown",
   "metadata": {},
   "source": [
    "In the next cell we plot the line associated with our initial point on top of the data - you can use this functionality to check if your weights provide a good-fitting line"
   ]
  },
  {
   "cell_type": "code",
   "execution_count": 18,
   "metadata": {},
   "outputs": [
    {
     "data": {
      "image/png": "[encoded data removed]",
      "text/plain": [
       "<matplotlib.figure.Figure at 0x1140066d8>"
      ]
     },
     "metadata": {},
     "output_type": "display_data"
    }
   ],
   "source": [
    "# our initial weights\n",
    "w = np.asarray([1.5,1.5])\n",
    "\n",
    "# scatter plot the input data\n",
    "fig, ax = plt.subplots(1, 1, figsize=(4,4))\n",
    "ax.scatter(data[:,0],data[:,1],color = 'k',edgecolor = 'w')\n",
    "\n",
    "# fit a trend line\n",
    "x_vals = np.linspace(0,1,200)\n",
    "y_vals = w[0] + w[1]*x_vals\n",
    "ax.plot(x_vals,y_vals,color = 'r')\n",
    "plt.show()"
   ]
  },
  {
   "cell_type": "markdown",
   "metadata": {},
   "source": [
    "#### <span style=\"color:#a50e3e;\">Exercise 5. </span> Use linear regression to fit to a high dimensional dataset"
   ]
  },
  {
   "cell_type": "markdown",
   "metadata": {},
   "source": [
    "The next Python cell loads in a dataset of 100 input/output pairs from a 10 dimensional dataset.  This dataset was constructed by randomly sampling a 10-dimensional hyperplane, so using linear regression we should be able to find a good linear fit to it."
   ]
  },
  {
   "cell_type": "code",
   "execution_count": 103,
   "metadata": {
    "collapsed": true
   },
   "outputs": [],
   "source": [
    "# load in dataset\n",
    "data = np.loadtxt('highdim_linregress_data.csv',delimiter = ',')\n",
    "\n",
    "# form the input/output data vectors\n",
    "x = data[:,:-1]\n",
    "y = data[:,-1]"
   ]
  },
  {
   "cell_type": "markdown",
   "metadata": {},
   "source": [
    "In the next cell - expand on the linear regression function provided in the previous exercise so that it can handle with $N=10$ dimensional data."
   ]
  },
  {
   "cell_type": "code",
   "execution_count": 104,
   "metadata": {
    "collapsed": true
   },
   "outputs": [],
   "source": [
    "# least squares cost function for linear regression\n",
    "def least_squares(w):\n",
    "\n",
    "    \n",
    "        \n",
    "    return cost"
   ]
  },
  {
   "cell_type": "markdown",
   "metadata": {},
   "source": [
    "You can test your implementation with input set of weights of all ones.  When you do this you should get the output value printed in the Python cell below."
   ]
  },
  {
   "cell_type": "code",
   "execution_count": 110,
   "metadata": {},
   "outputs": [
    {
     "name": "stdout",
     "output_type": "stream",
     "text": [
      "[ 7917.97952037]\n"
     ]
    }
   ],
   "source": [
    "# produce input and input into Least Squares cost function\n",
    "w = np.ones((11,1))\n",
    "print (least_squares(w))"
   ]
  },
  {
   "cell_type": "markdown",
   "metadata": {},
   "source": [
    "Now run gradient descent for up to 1000 iterations to minimize the Least Squares cost function on this dataset.  You can use a random set of weights as your initialization provided in the next cell.  Use the MSE printout to determine a good value of $\\alpha$ where you reach an MSE value of 1 or smaller."
   ]
  },
  {
   "cell_type": "code",
   "execution_count": 111,
   "metadata": {
    "collapsed": true
   },
   "outputs": [],
   "source": [
    "# run gradient descent\n",
    "w = np.random.randn(np.shape(x)[1]+1,1)\n",
    "weight_history = gradient_descent(g = least_squares,alpha = ???,max_its = 100,w = w)"
   ]
  },
  {
   "cell_type": "markdown",
   "metadata": {},
   "source": [
    "With $\\alpha$ chosen well you should be able to reach this threshold even after just 100 iterations, as shown below."
   ]
  },
  {
   "cell_type": "code",
   "execution_count": 112,
   "metadata": {},
   "outputs": [
    {
     "data": {
      "image/png": "[encoded data removed]",
      "text/plain": [
       "<matplotlib.figure.Figure at 0x111eedda0>"
      ]
     },
     "metadata": {},
     "output_type": "display_data"
    }
   ],
   "source": [
    "# use cost_history plotter\n",
    "MSE(weight_history,least_squares)"
   ]
  }
 ],
 "metadata": {
  "anaconda-cloud": {},
  "kernelspec": {
   "display_name": "Python 3",
   "language": "python",
   "name": "python3"
  },
  "language_info": {
   "codemirror_mode": {
    "name": "ipython",
    "version": 3
   },
   "file_extension": ".py",
   "mimetype": "text/x-python",
   "name": "python",
   "nbconvert_exporter": "python",
   "pygments_lexer": "ipython3",
   "version": "3.6.6"
  },
  "toc": {
   "colors": {
    "hover_highlight": "#DAA520",
    "navigate_num": "#000000",
    "navigate_text": "#333333",
    "running_highlight": "#FF0000",
    "selected_highlight": "#FFD700",
    "sidebar_border": "#EEEEEE",
    "wrapper_background": "#FFFFFF"
   },
   "moveMenuLeft": true,
   "nav_menu": {
    "height": "30px",
    "width": "252px"
   },
   "navigate_menu": true,
   "number_sections": false,
   "sideBar": true,
   "threshold": 4,
   "toc_cell": false,
   "toc_section_display": "block",
   "toc_window_display": false,
   "widenNotebook": false
  }
 },
 "nbformat": 4,
 "nbformat_minor": 1
}
